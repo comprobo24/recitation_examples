{
 "cells": [
  {
   "cell_type": "markdown",
   "metadata": {},
   "source": [
    "# OpenCV Basics\n",
    "This notebook will walk through a few basic operations using the OpenCV library."
   ]
  },
  {
   "cell_type": "code",
   "execution_count": null,
   "metadata": {},
   "outputs": [],
   "source": [
    "import numpy as np\n",
    "import cv2 as cv\n",
    "import matplotlib.pyplot as plt\n",
    "%matplotlib inline"
   ]
  },
  {
   "cell_type": "code",
   "execution_count": null,
   "metadata": {},
   "outputs": [],
   "source": [
    "# Read in an image (a few have been provided in this tutorial)\n",
    "img = cv.imread(\"./benthic_squat_lobster.png\")\n",
    "print(img.shape)\n",
    "plt.imshow(img)"
   ]
  },
  {
   "cell_type": "markdown",
   "metadata": {},
   "source": [
    "## Wait a Second...What's Going On Here? -- Colorspaces\n",
    "You'll notice that the color of the above image looks...off. That's because OpenCV images are matrices with the color-order BGR (blue-green-red), rather than what matplotlib expects as RGB (red-green-blue). Luckily there is a handy way to adjust this for viewing purposes, and when uploading images initially too!"
   ]
  },
  {
   "cell_type": "code",
   "execution_count": null,
   "metadata": {},
   "outputs": [],
   "source": [
    "# Plotting in the right colorspace\n",
    "plt.imshow(cv.cvtColor(img, cv.COLOR_BGR2RGB))\n",
    "# as opencv loads in BGR format by default, we want to show it in RGB."
   ]
  },
  {
   "cell_type": "code",
   "execution_count": null,
   "metadata": {},
   "outputs": [],
   "source": [
    "# Isolating color channels\n",
    "b, g, r = cv.split(img)\n",
    "plt.imshow(b, cmap=\"Blues_r\")\n",
    "plt.figure()\n",
    "plt.imshow(g, cmap=\"Greens_r\")\n",
    "plt.figure()\n",
    "plt.imshow(r, cmap=\"Reds_r\")\n",
    "plt.figure()\n",
    "plt.imshow(cv.merge((r,g,b)))\n"
   ]
  },
  {
   "cell_type": "markdown",
   "metadata": {},
   "source": [
    "## Accessing Image Properties\n",
    "Images are stored as matrices (cv:Mat types), and can be accessed like any matrix can be."
   ]
  },
  {
   "cell_type": "code",
   "execution_count": null,
   "metadata": {},
   "outputs": [],
   "source": [
    "print(img.shape)\n",
    "img_roi = img[500:2500, 1500:3000, :]\n",
    "plt.imshow(cv.cvtColor(img_roi, cv.COLOR_BGR2RGB))"
   ]
  },
  {
   "cell_type": "code",
   "execution_count": null,
   "metadata": {},
   "outputs": [],
   "source": [
    "# You try: how would you access just the blue channel of an image using matrix indexing?\n",
    "pass"
   ]
  },
  {
   "cell_type": "markdown",
   "metadata": {},
   "source": [
    "## More Advanced Manipulations\n",
    "With the toolbox, performing smoothing, edge detection, and even simple object tracking can be accomplished. Here are a few examples!"
   ]
  },
  {
   "cell_type": "code",
   "execution_count": null,
   "metadata": {},
   "outputs": [],
   "source": [
    "# Canny Edge Detection -- https://docs.opencv.org/4.x/da/d22/tutorial_py_canny.html\n",
    "\n",
    "# convert an image to grayscale\n",
    "img_gray = cv.cvtColor(img, cv.COLOR_BGR2GRAY)\n",
    "\n",
    "# detect edges using a Canny filter\n",
    "edges = cv.Canny(img_gray, threshold1=50, threshold2=200)\n",
    "\n",
    "f = plt.figure(figsize=(20,6))\n",
    "ax = f.add_subplot(121)\n",
    "ax2 = f.add_subplot(122)\n",
    "ax.imshow(img_gray, cmap=\"gray\")\n",
    "ax2.imshow(edges, cmap=\"gray\")\n",
    "plt.show()\n",
    "\n",
    "# How does changing the thresholds impact the edge detection? What happens if you manipulate the image?"
   ]
  },
  {
   "cell_type": "code",
   "execution_count": null,
   "metadata": {},
   "outputs": [],
   "source": [
    "# Image Smoothing -- https://docs.opencv.org/4.x/d4/d13/tutorial_py_filtering.html\n",
    "\n",
    "kernel = np.ones((50,50),np.float32)/2500  # an averaging kernel\n",
    "dst = cv.filter2D(img,-1,kernel)\n",
    "\n",
    "f = plt.figure(figsize=(20,6))\n",
    "ax = f.add_subplot(121)\n",
    "ax2 = f.add_subplot(122)\n",
    "ax.imshow(cv.cvtColor(img, cv.COLOR_BGR2RGB))\n",
    "ax2.imshow(cv.cvtColor(dst, cv.COLOR_BGR2RGB))\n",
    "plt.show()"
   ]
  },
  {
   "cell_type": "code",
   "execution_count": null,
   "metadata": {},
   "outputs": [],
   "source": [
    "# Image Smoothing -- https://docs.opencv.org/4.x/d4/d13/tutorial_py_filtering.html\n",
    "\n",
    "dst_blur = cv.blur(img,(50,50))  # use the opencv built in averaging kernel\n",
    "\n",
    "f = plt.figure(figsize=(20,6))\n",
    "ax = f.add_subplot(121)\n",
    "ax2 = f.add_subplot(122)\n",
    "ax.imshow(cv.cvtColor(img, cv.COLOR_BGR2RGB))\n",
    "ax2.imshow(cv.cvtColor(dst_blur, cv.COLOR_BGR2RGB))\n",
    "plt.show()"
   ]
  },
  {
   "cell_type": "code",
   "execution_count": null,
   "metadata": {},
   "outputs": [],
   "source": [
    "# Image Smoothing -- https://docs.opencv.org/4.x/d4/d13/tutorial_py_filtering.html\n",
    "\n",
    "dst_gblur = cv.GaussianBlur(img,(51,51),0)  # use the opencv built in gaussian kernel\n",
    "\n",
    "f = plt.figure(figsize=(20,6))\n",
    "ax = f.add_subplot(121)\n",
    "ax2 = f.add_subplot(122)\n",
    "ax.imshow(cv.cvtColor(img, cv.COLOR_BGR2RGB))\n",
    "ax2.imshow(cv.cvtColor(dst_gblur, cv.COLOR_BGR2RGB))\n",
    "plt.show()"
   ]
  },
  {
   "cell_type": "code",
   "execution_count": null,
   "metadata": {},
   "outputs": [],
   "source": [
    "# Image Smoothing -- https://docs.opencv.org/4.x/d4/d13/tutorial_py_filtering.html\n",
    "\n",
    "dst_medblur = cv.medianBlur(img,21)  # use the opencv built in median blurring -- can we get rid of marine snow?\n",
    "\n",
    "f = plt.figure(figsize=(20,6))\n",
    "ax = f.add_subplot(121)\n",
    "ax2 = f.add_subplot(122)\n",
    "ax.imshow(cv.cvtColor(img, cv.COLOR_BGR2RGB))\n",
    "ax2.imshow(cv.cvtColor(dst_medblur, cv.COLOR_BGR2RGB))\n",
    "plt.show()"
   ]
  },
  {
   "cell_type": "code",
   "execution_count": null,
   "metadata": {},
   "outputs": [],
   "source": [
    "# Image Smoothing -- https://docs.opencv.org/4.x/d4/d13/tutorial_py_filtering.html\n",
    "\n",
    "dst_bilatblur = cv.bilateralFilter(img,31,200,21)  # use the opencv built in bilateral filtering\n",
    "\n",
    "f = plt.figure(figsize=(20,6))\n",
    "ax = f.add_subplot(121)\n",
    "ax2 = f.add_subplot(122)\n",
    "ax.imshow(cv.cvtColor(img, cv.COLOR_BGR2RGB))\n",
    "ax2.imshow(cv.cvtColor(dst_bilatblur, cv.COLOR_BGR2RGB))\n",
    "plt.show()"
   ]
  },
  {
   "cell_type": "code",
   "execution_count": null,
   "metadata": {},
   "outputs": [],
   "source": []
  }
 ],
 "metadata": {
  "kernelspec": {
   "display_name": "Python 3",
   "language": "python",
   "name": "python3"
  },
  "language_info": {
   "codemirror_mode": {
    "name": "ipython",
    "version": 3
   },
   "file_extension": ".py",
   "mimetype": "text/x-python",
   "name": "python",
   "nbconvert_exporter": "python",
   "pygments_lexer": "ipython3",
   "version": "3.10.12"
  }
 },
 "nbformat": 4,
 "nbformat_minor": 2
}
